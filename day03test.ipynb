{
 "cells": [
  {
   "cell_type": "markdown",
   "id": "differential-phase",
   "metadata": {},
   "source": [
    "#### 1.1 입출력함수\n",
    " - 사용자로부터 데이터를 입력받기 위한 입력함수는?\n",
    "a = int(input(\"a: \"))\n",
    "b = int(input(\"b: \"))\n",
    "result = a + b\n",
    "print(a + \" + \" + b + \"=\" + result)\n",
    " ''' 이 코드를 실행해보자"
   ]
  },
  {
   "cell_type": "code",
   "execution_count": 20,
   "id": "changing-burton",
   "metadata": {},
   "outputs": [
    {
     "name": "stdout",
     "output_type": "stream",
     "text": [
      "a: 3\n",
      "b: 4\n",
      "3 + 4=34\n"
     ]
    }
   ],
   "source": [
    "a = input(\"a: \")\n",
    "b = input(\"b: \")\n",
    "result = a + b        # 두개의 숫자를 더하기\n",
    "print(a + \" + \" + b + \"=\" + result)"
   ]
  },
  {
   "cell_type": "code",
   "execution_count": 21,
   "id": "recognized-whale",
   "metadata": {
    "scrolled": false
   },
   "outputs": [
    {
     "data": {
      "text/plain": [
       "str"
      ]
     },
     "execution_count": 21,
     "metadata": {},
     "output_type": "execute_result"
    }
   ],
   "source": [
    "type(a)"
   ]
  },
  {
   "cell_type": "markdown",
   "id": "mobile-philosophy",
   "metadata": {},
   "source": [
    "위 실행코드는 오류가 발생한다. 요류의 내용을 확인하고 원인을 말해보세요. input()함수를 통한 입력한 값은 ()이기 때문에 연산 적용이 안된다. 정수로 변환하는 과정이 필요함"
   ]
  },
  {
   "cell_type": "markdown",
   "id": "tender-camping",
   "metadata": {},
   "source": [
    "a = int(input(\"a: \"))\n",
    "b = int(input(\"b: \"))\n",
    "result = a + b     # 두개의 숫자를 더하기 \n",
    "print(a + \" + \" + b + \"=\" + result)"
   ]
  },
  {
   "cell_type": "code",
   "execution_count": 24,
   "id": "organized-arrow",
   "metadata": {},
   "outputs": [
    {
     "name": "stdout",
     "output_type": "stream",
     "text": [
      "a: 3\n",
      "b: 4\n",
      "7\n"
     ]
    }
   ],
   "source": [
    "a = int(input(\"a: \"))\n",
    "b = int(input(\"b: \"))\n",
    "result = a + b     # 두개의 숫자를 더하기 \n",
    "print(result)"
   ]
  },
  {
   "cell_type": "code",
   "execution_count": 25,
   "id": "freelance-antigua",
   "metadata": {},
   "outputs": [
    {
     "data": {
      "text/plain": [
       "int"
      ]
     },
     "execution_count": 25,
     "metadata": {},
     "output_type": "execute_result"
    }
   ],
   "source": [
    "type(a)"
   ]
  },
  {
   "cell_type": "markdown",
   "id": "yellow-champion",
   "metadata": {},
   "source": [
    "**<연습문제>**사용자로부터 태어난 해를 입력받아 나이를 계산하는 프로그램을 작성해보자"
   ]
  },
  {
   "cell_type": "code",
   "execution_count": 30,
   "id": "unlikely-biography",
   "metadata": {},
   "outputs": [
    {
     "name": "stdout",
     "output_type": "stream",
     "text": [
      "태어난 해는? 2002\n",
      "2002년에 태어난 당신은 19살입니다.\n"
     ]
    }
   ],
   "source": [
    "# 프로그램을 작성하기 위해서는\n",
    "# 변수가 있어야한다\n",
    "birthYear = int(input(\"태어난 해는? \"))\n",
    "thisYear = 2021\n",
    "age = thisYear - birthYear\n",
    "print(str(birthYear) + \"년에 태어난 당신은 \" + str(age) + \"살입니다.\")"
   ]
  },
  {
   "cell_type": "markdown",
   "id": "norman-tutorial",
   "metadata": {},
   "source": [
    "## 변수와 상수 \n",
    "**변수 Variable** : 프로그램에서 처리할 데이터를 저장하는 공안의 이름  \n",
    "**상수 Constant** : 변수에 저장되는 숫자 데이터 또는 문자/문자열 데이터 그 자체 literal.  \n",
    "                      PI = 3.141592  \n",
    "**변수의 형태, Type** : 변수에 보관되는 데이터의 모양과 크기를 type이라한다.  \n",
    "                       숫자(int, float) / 문자(char) / 문자열(string) / 부울(boolean)"
   ]
  },
  {
   "cell_type": "code",
   "execution_count": 37,
   "id": "consistent-designation",
   "metadata": {},
   "outputs": [
    {
     "name": "stdout",
     "output_type": "stream",
     "text": [
      "False\n"
     ]
    }
   ],
   "source": [
    "a = 10 < 5\n",
    "type(a)\n",
    "print(a)"
   ]
  },
  {
   "cell_type": "code",
   "execution_count": 15,
   "id": "delayed-algorithm",
   "metadata": {
    "scrolled": true
   },
   "outputs": [
    {
     "name": "stdout",
     "output_type": "stream",
     "text": [
      "a: 2021\n",
      "b: 1997\n",
      "24\n"
     ]
    }
   ],
   "source": [
    "a = int(input(\"a: \"))  # a = 지금의 년도\n",
    "b = int(input(\"b: \"))  # b = 태어난 년도\n",
    "result = a - b\n",
    "print(result)"
   ]
  },
  {
   "cell_type": "code",
   "execution_count": 16,
   "id": "married-albert",
   "metadata": {},
   "outputs": [
    {
     "name": "stdout",
     "output_type": "stream",
     "text": [
      "a: 2021\n",
      "b: 1997\n",
      "25\n"
     ]
    }
   ],
   "source": [
    "a = int(input(\"a: \")) # a = 지금의 년도\n",
    "b = int(input(\"b: \")) # b = 태어난 년도\n",
    "result = a - b + 1    # + 1 ( 미만 나이 + 1 )\n",
    "print(result)"
   ]
  },
  {
   "cell_type": "markdown",
   "id": "searching-battery",
   "metadata": {},
   "source": [
    " - print()함수를 사용한 다양한 출력\n",
    "  - 서식의 지정 : 정수 10진수 %d, 16진수 %x, 8진수 %o, 실수 %f, 한 글자 %c, 문자열 %s\n",
    "  - format과 함께 사용\n",
    "  \n",
    " print()함수를 이용한 다양한 출력문을 구성해 봅시다."
   ]
  },
  {
   "cell_type": "code",
   "execution_count": 57,
   "id": "single-lucas",
   "metadata": {},
   "outputs": [
    {
     "name": "stdout",
     "output_type": "stream",
     "text": [
      "00000000\n",
      "   20\n",
      " 20.0\n",
      "24\n",
      "14\n"
     ]
    }
   ],
   "source": [
    "a = 20\n",
    "print(\"00000000\")\n",
    "print(\"%5d\"% a)    # %d: 정수형 10진수 형태로 출력\n",
    "print(\"%5.1f\"% a)    # %d: 정수형 16진수 형태로 출력\n",
    "print(\"%o\"% a)    # %d: 정수형 8진수 형태로 출력\n",
    "print(\"%x\"% a)    # %d: 정수형 16진수 형태로 출력"
   ]
  },
  {
   "cell_type": "code",
   "execution_count": 60,
   "id": "parliamentary-tuition",
   "metadata": {},
   "outputs": [
    {
     "name": "stdout",
     "output_type": "stream",
     "text": [
      "12345678901234567\n",
      "20    20\n"
     ]
    }
   ],
   "source": [
    "print(\"12345678901234567\")\n",
    "print(\"{0} {1:5}\".format(a, a))"
   ]
  },
  {
   "cell_type": "code",
   "execution_count": 62,
   "id": "combined-breath",
   "metadata": {},
   "outputs": [
    {
     "name": "stdout",
     "output_type": "stream",
     "text": [
      "한국 \n",
      "아이티전문\t학원\n"
     ]
    }
   ],
   "source": [
    "print(\"한국 \\n아이티전문\\t학원\")      # \\n : 줄바꿈, \\t : 탭, \\b"
   ]
  },
  {
   "cell_type": "markdown",
   "id": "underlying-supplier",
   "metadata": {},
   "source": [
    "**<연습문제>** 섭씨온도를 입력받아 화씨온도로 변환하여 출력하는 프로그램을 작성하시오. 단, 출력을 할 때 섭씨온도와 변환된 화씨온도를 함께 출력해주세요. 소수점이하는 2자리까지 표현하도록 하시오."
   ]
  },
  {
   "cell_type": "code",
   "execution_count": 74,
   "id": "pleased-stuff",
   "metadata": {},
   "outputs": [
    {
     "name": "stdout",
     "output_type": "stream",
     "text": [
      "섭씨온도는? 10\n",
      "10 C'일때 F'는 50.0입니다.\n"
     ]
    }
   ],
   "source": [
    "Celsius = int(input(\"섭씨온도는? \"))\n",
    "F = Celsius * 1.8 + 32           # F= C * 1.8 + 32\n",
    "print(str(Celsius) + \" C'일때 F'는 \" + str(F) + \"입니다.\")"
   ]
  },
  {
   "cell_type": "code",
   "execution_count": 77,
   "id": "frank-borough",
   "metadata": {},
   "outputs": [
    {
     "name": "stdout",
     "output_type": "stream",
     "text": [
      "섭씨온도는? 10\n",
      "10.00, 50.00\n",
      "10.00 50.00\n"
     ]
    }
   ],
   "source": [
    "tempC = int(input(\"섭씨온도는? \"))\n",
    "tempF = tempC * 1.8 + 32           # F= C * 1.8 + 32\n",
    "print(\"%5.2F, %5.2F\" %(tempC, tempF))\n",
    "print(\"{0:5.2f} {1:5.2f}\".format(tempC, tempF))"
   ]
  },
  {
   "cell_type": "markdown",
   "id": "found-album",
   "metadata": {},
   "source": [
    "### 연산자 : 산술, 관계, 논리"
   ]
  },
  {
   "cell_type": "code",
   "execution_count": 79,
   "id": "corresponding-review",
   "metadata": {},
   "outputs": [
    {
     "name": "stdout",
     "output_type": "stream",
     "text": [
      "3.3333333333333335\n",
      "3\n"
     ]
    }
   ],
   "source": [
    "# 몫을 취하는 연산자 : //\n",
    "print(10 / 3)\n",
    "print(10 // 3)"
   ]
  },
  {
   "cell_type": "code",
   "execution_count": 80,
   "id": "centered-iraqi",
   "metadata": {},
   "outputs": [
    {
     "name": "stdout",
     "output_type": "stream",
     "text": [
      "1\n"
     ]
    }
   ],
   "source": [
    "# 나머지를 구하는 연산자 : %\n",
    "print(10 % 3)"
   ]
  },
  {
   "cell_type": "code",
   "execution_count": 82,
   "id": "overhead-annotation",
   "metadata": {},
   "outputs": [
    {
     "name": "stdout",
     "output_type": "stream",
     "text": [
      "27\n"
     ]
    }
   ],
   "source": [
    "# 거듭제곱을 구하는 연산자 : **\n",
    "print(3 ** 3)"
   ]
  },
  {
   "cell_type": "markdown",
   "id": "helpful-nickname",
   "metadata": {},
   "source": [
    "**<연습문제>** 원의 반지름을 입력받아 면적을 구하는 프로그램을 작성하시오."
   ]
  },
  {
   "cell_type": "code",
   "execution_count": 89,
   "id": "appropriate-parliament",
   "metadata": {},
   "outputs": [
    {
     "name": "stdout",
     "output_type": "stream",
     "text": [
      "반지름은? 10\n",
      "원의 반지름이 10일때 원의 면적은 314.1592 입니다\n",
      "원의 반지름이 10일때 원의 면적은 314.1592 입니다\n"
     ]
    }
   ],
   "source": [
    "# 반지름*반지름*3.14\n",
    "r = int(input(\"반지름은? \"))\n",
    "PI = 3.141592\n",
    "area = r * r * PI\n",
    "print(\"원의 반지름이 \" + str(r) + \"일때\" + \" 원의 면적은 \" + str(area) + \" 입니다\" )\n",
    "area = r ** 2 * PI\n",
    "print(\"원의 반지름이 \" + str(r) + \"일때\" + \" 원의 면적은 \" + str(area) + \" 입니다\" )"
   ]
  },
  {
   "cell_type": "markdown",
   "id": "worth-fusion",
   "metadata": {},
   "source": [
    "**<연습문제>** 숫자를 입력받아 홀수인지 짝수인지 판단하는 프로그램을 작성하시오."
   ]
  },
  {
   "cell_type": "code",
   "execution_count": 93,
   "id": "broad-offset",
   "metadata": {},
   "outputs": [
    {
     "name": "stdout",
     "output_type": "stream",
     "text": [
      " 입력할 숫자는?7\n",
      "홀수\n"
     ]
    }
   ],
   "source": [
    "number = int(input( \" 입력할 숫자는?\"))\n",
    "remainder = number % 2\n",
    "if(remainder == 0) :\n",
    "    print(\"짝수\")\n",
    "else : print (\"홀수\")"
   ]
  }
 ],
 "metadata": {
  "kernelspec": {
   "display_name": "Python 3",
   "language": "python",
   "name": "python3"
  },
  "language_info": {
   "codemirror_mode": {
    "name": "ipython",
    "version": 3
   },
   "file_extension": ".py",
   "mimetype": "text/x-python",
   "name": "python",
   "nbconvert_exporter": "python",
   "pygments_lexer": "ipython3",
   "version": "3.9.1"
  }
 },
 "nbformat": 4,
 "nbformat_minor": 5
}
