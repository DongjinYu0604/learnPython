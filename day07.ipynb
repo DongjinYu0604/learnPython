{
 "cells": [
  {
   "cell_type": "markdown",
   "id": "adopted-uganda",
   "metadata": {},
   "source": [
    "### 객체지향\n",
    "\n",
    "- class 클래스(틀,프레임) : 사람(류),\n",
    "- object 객체 : 사람A, 사람B, 사람C\n",
    "- instance 개체"
   ]
  },
  {
   "cell_type": "markdown",
   "id": "associate-princeton",
   "metadata": {},
   "source": [
    "# 7일차 수업"
   ]
  },
  {
   "cell_type": "code",
   "execution_count": 1,
   "id": "structured-valentine",
   "metadata": {},
   "outputs": [],
   "source": [
    "# 클래스 생성\n",
    "# class 클래스이름:\n",
    "#     속성리스트\n",
    "#     매서드리스트\n",
    "\n",
    "# 클래스 정의\n",
    "class Dog:\n",
    "    def __init__(self, name, age):    # constructor, 생성자\n",
    "        \"\"\"생성자, 이름과 나이를 패러미터로 받아 초기화\"\"\"\n",
    "        self.name = name\n",
    "        self.age = age\n",
    "        \n",
    "    def sit(self):\n",
    "        print(f\"{self.name} is now sitting.\")\n",
    "        \n",
    "    def roll_over(self):\n",
    "        print(f\"{self.name} rolled over!\")\n",
    "        \n",
    "    def describe(self):\n",
    "        print(f\"{self.name} is {self.age} years old.\")\n",
    "        \n"
   ]
  },
  {
   "cell_type": "code",
   "execution_count": 2,
   "id": "curious-exploration",
   "metadata": {},
   "outputs": [],
   "source": [
    "# 클래스로 부터 객체 생성하기\n",
    "myDog = Dog(\"Wille\", 5)"
   ]
  },
  {
   "cell_type": "code",
   "execution_count": 4,
   "id": "fantastic-poison",
   "metadata": {},
   "outputs": [
    {
     "name": "stdout",
     "output_type": "stream",
     "text": [
      "Wille is 5 years old.\n",
      "Wille is now sitting.\n",
      "Wille rolled over!\n"
     ]
    }
   ],
   "source": [
    "myDog.describe()\n",
    "myDog.sit()\n",
    "myDog.roll_over()"
   ]
  },
  {
   "cell_type": "code",
   "execution_count": 5,
   "id": "proprietary-senate",
   "metadata": {},
   "outputs": [],
   "source": [
    "urDog = Dog(\"Mark\", 3)"
   ]
  },
  {
   "cell_type": "code",
   "execution_count": 6,
   "id": "outer-edmonton",
   "metadata": {},
   "outputs": [
    {
     "name": "stdout",
     "output_type": "stream",
     "text": [
      "Mark is 3 years old.\n",
      "Mark is now sitting.\n",
      "Mark rolled over!\n"
     ]
    }
   ],
   "source": [
    "urDog.describe()\n",
    "urDog.sit()\n",
    "urDog.roll_over()"
   ]
  },
  {
   "cell_type": "code",
   "execution_count": 7,
   "id": "decimal-executive",
   "metadata": {},
   "outputs": [
    {
     "data": {
      "text/plain": [
       "'Wille'"
      ]
     },
     "execution_count": 7,
     "metadata": {},
     "output_type": "execute_result"
    }
   ],
   "source": [
    "myDog.name"
   ]
  },
  {
   "cell_type": "code",
   "execution_count": 22,
   "id": "collective-affairs",
   "metadata": {},
   "outputs": [],
   "source": [
    "class Restaurant:\n",
    "    def __init__(self, name, type):\n",
    "        self.name = name\n",
    "        self.type = type\n",
    "    \n",
    "    def open(self):\n",
    "        print(f\"{self.name} is open.\")\n",
    "        \n",
    "    def describe(self):\n",
    "        print(f\"{self.name} is {self.type} restaurant.\")\n"
   ]
  },
  {
   "cell_type": "code",
   "execution_count": 23,
   "id": "extended-jenny",
   "metadata": {},
   "outputs": [],
   "source": [
    "myResturant = Restaurant(\"Holly\", \"korean food\")"
   ]
  },
  {
   "cell_type": "code",
   "execution_count": 26,
   "id": "consistent-hierarchy",
   "metadata": {},
   "outputs": [
    {
     "name": "stdout",
     "output_type": "stream",
     "text": [
      "Holly is open.\n",
      "Holly is korean food restaurant.\n"
     ]
    }
   ],
   "source": [
    "myResturant.open()\n",
    "myResturant.describe()"
   ]
  },
  {
   "cell_type": "code",
   "execution_count": 27,
   "id": "square-polish",
   "metadata": {},
   "outputs": [],
   "source": [
    "class User:\n",
    "    def __init__(self, first_name, last_name):\n",
    "        self.first_name = first_name\n",
    "        self.last_name = last_name\n",
    "        \n",
    "    def describe(self):\n",
    "        print(f\"{self.first_name}{self.last_name}\")\n",
    "        \n",
    "    def greet(self):\n",
    "        print(f\"{self.first_name}{self.last_name} is welcome!\")"
   ]
  },
  {
   "cell_type": "code",
   "execution_count": 28,
   "id": "australian-snake",
   "metadata": {},
   "outputs": [],
   "source": [
    "nameUser = User(\"유\", \"동진\")"
   ]
  },
  {
   "cell_type": "code",
   "execution_count": 29,
   "id": "portuguese-watch",
   "metadata": {},
   "outputs": [
    {
     "name": "stdout",
     "output_type": "stream",
     "text": [
      "유동진\n",
      "유동진 is welcome!\n"
     ]
    }
   ],
   "source": [
    "nameUser.describe()\n",
    "nameUser.greet()"
   ]
  },
  {
   "cell_type": "code",
   "execution_count": 37,
   "id": "fluid-arrival",
   "metadata": {},
   "outputs": [],
   "source": [
    "class Car:\n",
    "    def __init__(self, maker, model, year):\n",
    "        self.maker = maker\n",
    "        self.model = model\n",
    "        self.year = year\n",
    "        self.odometer = 0\n",
    "        \n",
    "    def descriptiveName(self):\n",
    "        longname = f\"{self.year} {self.maker} {self.model}\"\n",
    "        return longname.title()\n",
    "    \n",
    "    def run(self, running):\n",
    "        self.odometer += running\n",
    "    \n",
    "    def showinfo(self):\n",
    "        print(f\"이 자동차의 총 주행거리는 {self.odometer} 입니다.\")\n",
    "        "
   ]
  },
  {
   "cell_type": "code",
   "execution_count": 38,
   "id": "separated-store",
   "metadata": {},
   "outputs": [
    {
     "name": "stdout",
     "output_type": "stream",
     "text": [
      "2021 현재 그랜저\n",
      "이 자동차의 총 주행거리는 0 입니다.\n",
      "이 자동차의 총 주행거리는 250 입니다.\n"
     ]
    }
   ],
   "source": [
    "myCar = Car(\"현재\", \"그랜저\", \"2021\")\n",
    "print(myCar.descriptiveName())\n",
    "myCar.showinfo()\n",
    "myCar.run(250)\n",
    "myCar.showinfo()"
   ]
  },
  {
   "cell_type": "code",
   "execution_count": 45,
   "id": "difficult-switch",
   "metadata": {},
   "outputs": [],
   "source": [
    "#상속 , class 서브클래스이름(슈퍼클래스):\n",
    "\n",
    "class ElecricCar(Car):\n",
    "    def __init__(self, maker, model, year):\n",
    "        super().__init__(maker, model, year)\n",
    "        self.batterySize = 75\n",
    "    def describeBatterySize(self):\n",
    "        print(f\"이 차의 배터리 용량은 {self.batterySize}Kwh입니다.\")\n",
    "    def run(self, running):                              #오버라이드\n",
    "        self.odometer += running\n",
    "        self.batterySize -= 10\n",
    "    def showinfo(self):                                  #오버라이드\n",
    "        print(f\"이 자동차의 총 주행거리는 {self.odometer} 이고, 잔여 배터리는 {self.batterySize} Kwh입니다.\")\n"
   ]
  },
  {
   "cell_type": "code",
   "execution_count": 46,
   "id": "varied-hudson",
   "metadata": {},
   "outputs": [
    {
     "name": "stdout",
     "output_type": "stream",
     "text": [
      "2019 Tesla Model S\n",
      "이 차의 배터리 용량은 75Kwh입니다.\n",
      "이 자동차의 총 주행거리는 100 이고, 잔여 배터리는 65 Kwh입니다.\n"
     ]
    }
   ],
   "source": [
    "myTesla = ElecricCar('tesla', 'model S', 2019)\n",
    "print(myTesla.descriptiveName())\n",
    "myTesla.describeBatterySize()\n",
    "myTesla.run(100)\n",
    "myTesla.showinfo()"
   ]
  },
  {
   "cell_type": "code",
   "execution_count": null,
   "id": "fitted-violation",
   "metadata": {},
   "outputs": [],
   "source": [
    "# 오버라이드 Override\n"
   ]
  }
 ],
 "metadata": {
  "kernelspec": {
   "display_name": "Python 3",
   "language": "python",
   "name": "python3"
  },
  "language_info": {
   "codemirror_mode": {
    "name": "ipython",
    "version": 3
   },
   "file_extension": ".py",
   "mimetype": "text/x-python",
   "name": "python",
   "nbconvert_exporter": "python",
   "pygments_lexer": "ipython3",
   "version": "3.9.1"
  }
 },
 "nbformat": 4,
 "nbformat_minor": 5
}
