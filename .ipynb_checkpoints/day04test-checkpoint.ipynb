{
 "cells": [
  {
   "cell_type": "markdown",
   "id": "retired-rotation",
   "metadata": {},
   "source": [
    "### sequence 타입의 자료형\n",
    "#### 1.1 리스트 자료형\n",
    "- 리스트의 정의 : 말 그대로 목록이라는 의미를 가지며, 값을 일렬로 여러개 늘어놓은 형태\n",
    "- 리스트의 생성 : 리스트의 이름 = [값의 목록 ], 리스트의 이름 = list()\n",
    "- 리스트의 언덱싱 : 리스트의 특정 번째 요소를 자칭하는 숫자값 - 인덱스. 0 ~\n",
    "- 리스트의 슬라이싱 : 리스트에서 인덱스의 범위를 지정, lst[1:3}\n",
    "- 리스트 연산\n",
    "  + 더하기(+)\n",
    "  + 반복하기 (*)\n",
    "  + 같이 구하기\n",
    "- 리스트의 수정과 삭제\n",
    "- 리스트 관련 함수 :\n",
    "  + 요소 추가 append\n",
    "  + 정렬 sort\n",
    "  + 뒤집기 reverse\n",
    "  + 위치 변환 index\n",
    "  + 요소 삽입 insert\n",
    "  + 리스트 제거 remove\n",
    "  + 리스트 요소 끄집어내기 pop\n",
    "  + 리스트에 포함된 요소의 개수 새기 coount\n",
    "  + 리스트의 확장 extend"
   ]
  },
  {
   "cell_type": "code",
   "execution_count": 1,
   "id": "classical-campus",
   "metadata": {},
   "outputs": [],
   "source": [
    "# 리스트 생성하기\n",
    "# 리스트의 생성 : 리스트의 이름 = [값의 목록 ], 리스트의 이름 = list()\n",
    "lst = [1,2,3,4,5]"
   ]
  },
  {
   "cell_type": "code",
   "execution_count": 4,
   "id": "chicken-vision",
   "metadata": {},
   "outputs": [
    {
     "name": "stdout",
     "output_type": "stream",
     "text": [
      "[1, 2, 3, 4, 5]\n"
     ]
    }
   ],
   "source": [
    "print(lst)"
   ]
  },
  {
   "cell_type": "code",
   "execution_count": 6,
   "id": "excellent-essence",
   "metadata": {},
   "outputs": [
    {
     "data": {
      "text/plain": [
       "1"
      ]
     },
     "execution_count": 6,
     "metadata": {},
     "output_type": "execute_result"
    }
   ],
   "source": [
    "lst[0]  # 리스트의 개별 요소에 대한 접근 : 리스트이름[인덱스]"
   ]
  },
  {
   "cell_type": "code",
   "execution_count": 8,
   "id": "institutional-craft",
   "metadata": {},
   "outputs": [
    {
     "data": {
      "text/plain": [
       "5"
      ]
     },
     "execution_count": 8,
     "metadata": {},
     "output_type": "execute_result"
    }
   ],
   "source": [
    "lst[-1]"
   ]
  },
  {
   "cell_type": "code",
   "execution_count": 29,
   "id": "computational-manual",
   "metadata": {},
   "outputs": [],
   "source": [
    "lst2 = list(range(1, 20, 3))   # range(숫자1,숫자2,숫자3) : 0 ~ 숫자까지의 범위의 수를 생성해주는 매서드, 숫자,숫자,숫자 3번째는 증가값"
   ]
  },
  {
   "cell_type": "code",
   "execution_count": 30,
   "id": "quarterly-softball",
   "metadata": {},
   "outputs": [
    {
     "data": {
      "text/plain": [
       "7"
      ]
     },
     "execution_count": 30,
     "metadata": {},
     "output_type": "execute_result"
    }
   ],
   "source": [
    "len(lst2)   # 리스트의 크기, 요소의 갯수를 확인하는 매서드. len(리스트이름)"
   ]
  },
  {
   "cell_type": "code",
   "execution_count": 35,
   "id": "female-edwards",
   "metadata": {},
   "outputs": [
    {
     "data": {
      "text/plain": [
       "[1, 4, 7, 10, 13, 16, 19]"
      ]
     },
     "execution_count": 35,
     "metadata": {},
     "output_type": "execute_result"
    }
   ],
   "source": [
    "lst2[:]      # 슬라이싱 [숫자:숫자:숫자] 콜론을 사용해서 영역을 지정할 수 있다. 처음과 끝은 생략 가능."
   ]
  },
  {
   "cell_type": "code",
   "execution_count": 36,
   "id": "painted-tribe",
   "metadata": {},
   "outputs": [],
   "source": [
    "lst2[2] = 77"
   ]
  },
  {
   "cell_type": "code",
   "execution_count": 37,
   "id": "noted-warning",
   "metadata": {},
   "outputs": [
    {
     "data": {
      "text/plain": [
       "[1, 4, 77, 10, 13, 16, 19]"
      ]
     },
     "execution_count": 37,
     "metadata": {},
     "output_type": "execute_result"
    }
   ],
   "source": [
    "lst2"
   ]
  },
  {
   "cell_type": "code",
   "execution_count": 41,
   "id": "dimensional-spyware",
   "metadata": {},
   "outputs": [],
   "source": [
    "# 리스트의 더하기(not add but concatenate, 산술적 덧셈의 의미가 아니라 두개 리스트를 결합)\n",
    "OddLst = [1,3,5,7,9]\n",
    "EvenLst = [2,4,6,8,10]\n",
    "AllLst = OddLst + EvenLst"
   ]
  },
  {
   "cell_type": "code",
   "execution_count": 42,
   "id": "actual-causing",
   "metadata": {},
   "outputs": [
    {
     "data": {
      "text/plain": [
       "[1, 3, 5, 7, 9, 2, 4, 6, 8, 10]"
      ]
     },
     "execution_count": 42,
     "metadata": {},
     "output_type": "execute_result"
    }
   ],
   "source": [
    "AllLst"
   ]
  },
  {
   "cell_type": "code",
   "execution_count": 43,
   "id": "deadly-undergraduate",
   "metadata": {},
   "outputs": [
    {
     "data": {
      "text/plain": [
       "[1, 3, 5, 7, 9, 1, 3, 5, 7, 9, 1, 3, 5, 7, 9]"
      ]
     },
     "execution_count": 43,
     "metadata": {},
     "output_type": "execute_result"
    }
   ],
   "source": [
    "# 리스트의 * 반복\n",
    "MulLst = OddLst * 3\n",
    "MulLst"
   ]
  },
  {
   "cell_type": "code",
   "execution_count": 44,
   "id": "urban-webcam",
   "metadata": {},
   "outputs": [
    {
     "data": {
      "text/plain": [
       "['홍길동', '춘향이', '박문수']"
      ]
     },
     "execution_count": 44,
     "metadata": {},
     "output_type": "execute_result"
    }
   ],
   "source": [
    "# 리스트에 새로운 항목 추가하기\n",
    "stName = [\"홍길동\", \"춘향이\", \"박문수\"]\n",
    "stName"
   ]
  },
  {
   "cell_type": "code",
   "execution_count": 49,
   "id": "surprising-montana",
   "metadata": {},
   "outputs": [
    {
     "data": {
      "text/plain": [
       "['홍길동', '춘향이', '박문수', '이지은', '이지은', '이지은']"
      ]
     },
     "execution_count": 49,
     "metadata": {},
     "output_type": "execute_result"
    }
   ],
   "source": [
    "# 지은이가 전학을 왔어요. 학생 명단에 지은을 추가하고 싶어요.\n",
    "# stName[3] = \"이지은\"\n",
    "# 인덱스를 추하가는 방법 대신....\n",
    "# append() 함수를 사용하시오.\n",
    "# 리스트이름.append()\n",
    "stName.append(\"이지은\")\n",
    "stName"
   ]
  },
  {
   "cell_type": "code",
   "execution_count": 54,
   "id": "demanding-bones",
   "metadata": {},
   "outputs": [
    {
     "data": {
      "text/plain": [
       "['홍길동', '춘향이']"
      ]
     },
     "execution_count": 54,
     "metadata": {},
     "output_type": "execute_result"
    }
   ],
   "source": [
    "#리스트 항목 제거\n",
    "# del ( del 리스트이름[] )= 몇번째 항목을 지워주세요, pop [ 리스트이름.pop() ]: 뒤에서 지워주세요.\n",
    "stName.pop()\n",
    "stName"
   ]
  },
  {
   "cell_type": "code",
   "execution_count": 53,
   "id": "coordinated-spouse",
   "metadata": {},
   "outputs": [
    {
     "data": {
      "text/plain": [
       "['홍길동', '춘향이', '이지은']"
      ]
     },
     "execution_count": 53,
     "metadata": {},
     "output_type": "execute_result"
    }
   ],
   "source": [
    "del stName[2]\n",
    "stName"
   ]
  },
  {
   "cell_type": "code",
   "execution_count": 55,
   "id": "psychological-partner",
   "metadata": {},
   "outputs": [
    {
     "data": {
      "text/plain": [
       "['홍길동', '을지문덕', '춘향이']"
      ]
     },
     "execution_count": 55,
     "metadata": {},
     "output_type": "execute_result"
    }
   ],
   "source": [
    "# 리스트의 항목 삽입 : 리스트이름.insert(인덱스,값)\n",
    "stName.insert(1,\"을지문덕\")\n",
    "stName"
   ]
  },
  {
   "cell_type": "code",
   "execution_count": 56,
   "id": "logical-excerpt",
   "metadata": {},
   "outputs": [
    {
     "data": {
      "text/plain": [
       "['홍길동', '을지문덕']"
      ]
     },
     "execution_count": 56,
     "metadata": {},
     "output_type": "execute_result"
    }
   ],
   "source": [
    "# 값으로 항목지우기 : remove()\n",
    "stName.remove(\"춘향이\")\n",
    "stName"
   ]
  },
  {
   "cell_type": "code",
   "execution_count": 59,
   "id": "improving-impossible",
   "metadata": {},
   "outputs": [
    {
     "data": {
      "text/plain": [
       "['홍길동', '을지문덕']"
      ]
     },
     "execution_count": 59,
     "metadata": {},
     "output_type": "execute_result"
    }
   ],
   "source": [
    "# 리스트의 정렬 sort()              공백은 가나다순 reverse=True 는 역순\n",
    "stName.sort(reverse=True)\n",
    "stName"
   ]
  },
  {
   "cell_type": "code",
   "execution_count": 60,
   "id": "opposed-economy",
   "metadata": {},
   "outputs": [
    {
     "data": {
      "text/plain": [
       "['홍길동', '을지문덕', '이지은']"
      ]
     },
     "execution_count": 60,
     "metadata": {},
     "output_type": "execute_result"
    }
   ],
   "source": [
    "stName.append(\"이지은\")\n",
    "stName"
   ]
  },
  {
   "cell_type": "markdown",
   "id": "limiting-payroll",
   "metadata": {},
   "source": [
    "# 리스트에 대해 루프 실행하기\n",
    "```python\n",
    "print(stName[0])\n",
    "print(stName[1])\n",
    "print(stName[2])\n",
    "```\n",
    "위 방법은 출력해야할 요소가 아주 많을때는 불편하다.\n"
   ]
  },
  {
   "cell_type": "code",
   "execution_count": 64,
   "id": "junior-ambassador",
   "metadata": {},
   "outputs": [
    {
     "name": "stdout",
     "output_type": "stream",
     "text": [
      "홍길동\n",
      "을지문덕\n",
      "이지은\n"
     ]
    }
   ],
   "source": [
    "for name in stName:\n",
    "    print(name)"
   ]
  },
  {
   "cell_type": "code",
   "execution_count": 65,
   "id": "aboriginal-tamil",
   "metadata": {},
   "outputs": [
    {
     "name": "stdout",
     "output_type": "stream",
     "text": [
      "홍길동, that was a great trick!\n",
      "을지문덕, that was a great trick!\n",
      "이지은, that was a great trick!\n"
     ]
    }
   ],
   "source": [
    "for name in stName:\n",
    "    print(f\"{name.title()}, that was a great trick!\")"
   ]
  },
  {
   "cell_type": "code",
   "execution_count": 71,
   "id": "appreciated-admission",
   "metadata": {},
   "outputs": [
    {
     "name": "stdout",
     "output_type": "stream",
     "text": [
      "Alive, that was a great trick!\n",
      "I can't wait to see your next trick, Alive.\n",
      "David, that was a great trick!\n",
      "I can't wait to see your next trick, David.\n",
      "Carolina, that was a great trick!\n",
      "I can't wait to see your next trick, Carolina.\n",
      "*********\n"
     ]
    }
   ],
   "source": [
    "magicians= ['alive', 'david', 'carolina']\n",
    "for magician in magicians:\n",
    "    print(f\"{magician.title()}, that was a great trick!\")\n",
    "    print(f\"I can't wait to see your next trick, {magician.title()}.\")\n",
    "    \n",
    "print(\"*********\")"
   ]
  },
  {
   "cell_type": "code",
   "execution_count": 74,
   "id": "swedish-vegetable",
   "metadata": {},
   "outputs": [
    {
     "name": "stdout",
     "output_type": "stream",
     "text": [
      "0\n",
      "9\n",
      "45\n"
     ]
    }
   ],
   "source": [
    "digits = [1, 2, 3, 4, 5, 6, 7, 8, 9, 0]\n",
    "print(min(digits))\n",
    "print(max(digits))\n",
    "print(sum(digits))"
   ]
  },
  {
   "cell_type": "code",
   "execution_count": 75,
   "id": "electric-slovakia",
   "metadata": {},
   "outputs": [
    {
     "name": "stdout",
     "output_type": "stream",
     "text": [
      "[1, 4, 9, 16, 25, 36, 49, 64, 81, 100]\n"
     ]
    }
   ],
   "source": [
    "squars = [ value ** 2 for value in range(1,11)]\n",
    "print(squars)"
   ]
  },
  {
   "cell_type": "markdown",
   "id": "yellow-substance",
   "metadata": {},
   "source": [
    "### 튜플"
   ]
  },
  {
   "cell_type": "markdown",
   "id": "fiscal-vision",
   "metadata": {},
   "source": [
    " - 연속된 데이터를 취급하는 두가지 방법  \n",
    "[리스트] : 요소의 수정, 삭제가 가능한 방면  \n",
    "(튜플) : 요소의 수정, 삭제가 불가능"
   ]
  },
  {
   "cell_type": "code",
   "execution_count": 38,
   "id": "auburn-volume",
   "metadata": {},
   "outputs": [],
   "source": [
    "tpl = tuple(range(1,11,2))"
   ]
  },
  {
   "cell_type": "code",
   "execution_count": 39,
   "id": "inside-laugh",
   "metadata": {},
   "outputs": [
    {
     "data": {
      "text/plain": [
       "(1, 3, 5, 7, 9)"
      ]
     },
     "execution_count": 39,
     "metadata": {},
     "output_type": "execute_result"
    }
   ],
   "source": [
    "tpl"
   ]
  },
  {
   "cell_type": "code",
   "execution_count": 76,
   "id": "romance-dream",
   "metadata": {},
   "outputs": [
    {
     "data": {
      "text/plain": [
       "5"
      ]
     },
     "execution_count": 76,
     "metadata": {},
     "output_type": "execute_result"
    }
   ],
   "source": [
    "tpl[2]"
   ]
  },
  {
   "cell_type": "markdown",
   "id": "stuffed-prescription",
   "metadata": {},
   "source": [
    "### 1.3 딕셔너리\n",
    "\n",
    "     + 딕셔너리 : (key1:value, key2:value2,..)\n",
    "     + 딕셔너리 쌍 추가\n",
    "     + 딕셔너리 요소 삭제\n",
    "     + key값 사용 value 얻기\n",
    "     + key 리스트 만들기 keys()\n",
    "     + value 리스트 만들기 values()\n",
    "     + key, value 쌍 열기 items()\n",
    "     + key, value 쌍 모두 지우기 clear()\n",
    "     + key로 value 열기 get()\n",
    "     + 해당 키가 딕셔너리 안에 있는지 조사하기 in()"
   ]
  },
  {
   "cell_type": "code",
   "execution_count": 3,
   "id": "religious-complex",
   "metadata": {},
   "outputs": [],
   "source": [
    "# 딕셔너리 정의(생성)  -키와 값의 연관 associative에 의한 접근.\n",
    "student1 = {'name':'홍길동', 'adress':'청주시 상당구'}\n",
    "student2 = {'name':'갑순이', 'adress':'청주시 흥덕구'}"
   ]
  },
  {
   "cell_type": "code",
   "execution_count": 4,
   "id": "acting-landscape",
   "metadata": {},
   "outputs": [
    {
     "data": {
      "text/plain": [
       "'홍길동'"
      ]
     },
     "execution_count": 4,
     "metadata": {},
     "output_type": "execute_result"
    }
   ],
   "source": [
    "student1['name']"
   ]
  },
  {
   "cell_type": "code",
   "execution_count": 10,
   "id": "loaded-secret",
   "metadata": {},
   "outputs": [],
   "source": [
    "student1['phone'] = ' 010-1234-4567 '   # 딕셔너리에 새로운 키-값 쌍 추가"
   ]
  },
  {
   "cell_type": "code",
   "execution_count": 11,
   "id": "sized-designation",
   "metadata": {},
   "outputs": [
    {
     "name": "stdout",
     "output_type": "stream",
     "text": [
      "{'name': '홍길동', 'adress': '청주시 상당구', 'phone': ' 010-1234-4567 '}\n"
     ]
    }
   ],
   "source": [
    "print(student1)"
   ]
  },
  {
   "cell_type": "code",
   "execution_count": 12,
   "id": "processed-recall",
   "metadata": {},
   "outputs": [],
   "source": [
    "student1['adress'] = '청주시 서원구'     # 딕셔너리 값 수정"
   ]
  },
  {
   "cell_type": "code",
   "execution_count": 14,
   "id": "royal-partnership",
   "metadata": {},
   "outputs": [
    {
     "name": "stdout",
     "output_type": "stream",
     "text": [
      "{'name': '홍길동', 'adress': '청주시 서원구', 'phone': ' 010-1234-4567 '}\n"
     ]
    }
   ],
   "source": [
    "print(student1)"
   ]
  },
  {
   "cell_type": "code",
   "execution_count": 16,
   "id": "verified-great",
   "metadata": {},
   "outputs": [],
   "source": [
    "del student1['adress']  # 키 - 값 쌍 제거"
   ]
  },
  {
   "cell_type": "code",
   "execution_count": 17,
   "id": "reasonable-painting",
   "metadata": {},
   "outputs": [
    {
     "name": "stdout",
     "output_type": "stream",
     "text": [
      "{'name': '홍길동', 'phone': ' 010-1234-4567 '}\n"
     ]
    }
   ],
   "source": [
    "print(student1)"
   ]
  },
  {
   "cell_type": "code",
   "execution_count": 18,
   "id": "upset-florida",
   "metadata": {},
   "outputs": [
    {
     "ename": "KeyError",
     "evalue": "'adress'",
     "output_type": "error",
     "traceback": [
      "\u001b[1;31m---------------------------------------------------------------------------\u001b[0m",
      "\u001b[1;31mKeyError\u001b[0m                                  Traceback (most recent call last)",
      "\u001b[1;32m<ipython-input-18-babea1570c0d>\u001b[0m in \u001b[0;36m<module>\u001b[1;34m\u001b[0m\n\u001b[1;32m----> 1\u001b[1;33m \u001b[0mstudent1\u001b[0m\u001b[1;33m[\u001b[0m\u001b[1;34m'adress'\u001b[0m\u001b[1;33m]\u001b[0m\u001b[1;33m\u001b[0m\u001b[1;33m\u001b[0m\u001b[0m\n\u001b[0m",
      "\u001b[1;31mKeyError\u001b[0m: 'adress'"
     ]
    }
   ],
   "source": [
    "student1['adress']"
   ]
  },
  {
   "cell_type": "code",
   "execution_count": 20,
   "id": "basic-authentication",
   "metadata": {},
   "outputs": [
    {
     "name": "stdout",
     "output_type": "stream",
     "text": [
      "adress 키는 삭제 되었습니다.\n"
     ]
    }
   ],
   "source": [
    "#result = student1['adress']\n",
    "result = student1.get('address', 'adress 키는 삭제 되었습니다.') #오류를 방지하고. 키가 없을 때는 지정된 값을 변환하도록 한다.\n",
    "print(result)"
   ]
  },
  {
   "cell_type": "code",
   "execution_count": 24,
   "id": "opened-tourist",
   "metadata": {},
   "outputs": [
    {
     "name": "stdout",
     "output_type": "stream",
     "text": [
      "\n",
      "Key: name\n",
      "Value: 갑순이\n",
      "\n",
      "Key: adress\n",
      "Value: 청주시 흥덕구\n"
     ]
    }
   ],
   "source": [
    "for key, value in student2.items():    #keys(), values() \n",
    "    print(f\"\\nKey: {key}\")\n",
    "    print(f\"Value: {value}\")"
   ]
  },
  {
   "cell_type": "code",
   "execution_count": 25,
   "id": "aging-bridge",
   "metadata": {},
   "outputs": [
    {
     "name": "stdout",
     "output_type": "stream",
     "text": [
      "\n",
      "Jen's favorite languages are:\n",
      "\tPython\n",
      "\tRuby\n",
      "\n",
      "Sarah's favorite languages are:\n",
      "\tC\n",
      "\n",
      "Edward's favorite languages are:\n",
      "\tRuby\n",
      "\tGo\n",
      "\n",
      "Phil's favorite languages are:\n",
      "\tPython\n",
      "\tJava\n"
     ]
    }
   ],
   "source": [
    "favorite_languages = {\n",
    "    'jen': ['python', 'ruby'],\n",
    "    'sarah': ['c'],\n",
    "    'edward': ['ruby', 'go'],\n",
    "    'phil': ['python', 'java'],\n",
    "}\n",
    "\n",
    "for name, languages in favorite_languages.items():\n",
    "    print(f\"\\n{name.title()}'s favorite languages are:\")\n",
    "    for language in languages:\n",
    "        print(f\"\\t{language.title()}\")"
   ]
  },
  {
   "cell_type": "markdown",
   "id": "derived-exhaust",
   "metadata": {},
   "source": [
    "### 조건제어"
   ]
  },
  {
   "cell_type": "code",
   "execution_count": 77,
   "id": "extensive-nothing",
   "metadata": {},
   "outputs": [
    {
     "name": "stdout",
     "output_type": "stream",
     "text": [
      "Audi\n",
      "BMW\n",
      "Subaru\n",
      "Toyota\n"
     ]
    }
   ],
   "source": [
    "cars = ['audi', 'bmw', 'subaru', 'toyota']\n",
    "\n",
    "for car in cars:       #cars 리스트의 요소를 car로 반복해서 가져온다.\n",
    "    if car == 'bmw':     # car가 bmw이면\n",
    "        print(car.upper())  # 전체를 대문자로 출력하고\n",
    "    else: \n",
    "        print(car.title())  # 그렇지 않으면, 첫글자만 대문자로 출력하라."
   ]
  },
  {
   "cell_type": "markdown",
   "id": "arctic-stroke",
   "metadata": {},
   "source": [
    "## elif\n",
    " 여러개의 조건을 비교할 때 사용한다.\n",
    "```python\n",
    "if c > d:\n",
    "    print('c가 d보다 크다')\n",
    "elif c == d:\n",
    "    print('c는 d와 같다')\n",
    "elif c < d:\n",
    "    print('c는 d보다 작다')\n",
    "else:\n",
    "    print('잘 모르겠어요.')\n",
    "```"
   ]
  },
  {
   "cell_type": "markdown",
   "id": "protected-quantity",
   "metadata": {},
   "source": [
    "**<연습문제>** 5과목의 점수가 score 리스트에 저장되어 있다. 총점을 구하고, 총점이 90이상이면 A등급을, 80이상이면 B등급을 70이상이면 C등급을 부여하고, 그렇지 않으면 F등급을 부여하는 프로그램을 작성하시오"
   ]
  },
  {
   "cell_type": "code",
   "execution_count": 84,
   "id": "floating-bulletin",
   "metadata": {},
   "outputs": [
    {
     "name": "stdout",
     "output_type": "stream",
     "text": [
      "B\n"
     ]
    }
   ],
   "source": [
    "#문제해결과정\n",
    "#1. 다섯 과목의 점수로 리스트를 구성한다.\n",
    "#2. 총점을 저장하기 위한 변수를 0으로 초기화 한다.\n",
    "#3. 총점을 구하기 위하여 다음 단계를 반복한다.\n",
    "#   3.1 n번째 요소를 가져온다.\n",
    "#   3.2 총점에 n번째 요소를 누적한다.\n",
    "# 평균 = 총점 / 수\n",
    "#4. 총점이 90보다 크면 등급을 A라고 한다.\n",
    "#   아닌 경우 80보다 크면 등급을 B라고 한다.\n",
    "#   아닌 경우 70보다 크면 등급을 C라고 한다.\n",
    "#   그것도 아니라며 등급을 F라고 한다.\n",
    "\n",
    "scores = [80,80,85,75,80]\n",
    "total = 0\n",
    "for score in scores:\n",
    "    total += score\n",
    "\n",
    "avg = total / 5\n",
    "\n",
    "if avg >= 90: \n",
    "    grade = \"A\"\n",
    "elif avg >= 80: \n",
    "    grade = \"B\"\n",
    "elif avg >= 70: \n",
    "    grade = \"C\"\n",
    "else : \n",
    "    grade = \"F\"\n",
    "\n",
    "print(grade)\n"
   ]
  },
  {
   "cell_type": "markdown",
   "id": "agreed-slovakia",
   "metadata": {},
   "source": [
    "### 4.반복문\n",
    "\n",
    "#### 4.1 while을 사용하는 반복문\n",
    "  \n",
    "  ``` while 조건식:   \n",
    "           반복구문\n",
    "  ```"
   ]
  },
  {
   "cell_type": "code",
   "execution_count": 28,
   "id": "willing-gender",
   "metadata": {},
   "outputs": [
    {
     "name": "stdout",
     "output_type": "stream",
     "text": [
      "반복할 횟수를 입력해주세요3\n",
      "0 번째 실행\n",
      "1 번째 실행\n",
      "2 번째 실행\n",
      "반복 종류 후 i 값은 3\n"
     ]
    }
   ],
   "source": [
    "cnt = int (input(\"반복할 횟수를 입력해주세요\"))\n",
    "i = 0;\n",
    "while i < cnt :\n",
    "    print(i, \"번째 실행\")\n",
    "    i = i + 1\n",
    "    \n",
    "print(\"반복 종류 후 i 값은\", i)"
   ]
  },
  {
   "cell_type": "code",
   "execution_count": null,
   "id": "rapid-monte",
   "metadata": {},
   "outputs": [],
   "source": []
  },
  {
   "cell_type": "markdown",
   "id": "gothic-crazy",
   "metadata": {},
   "source": [
    "**<연습문제>** 1부터 5까지의 숫자를 출력하는 프로그램을 작성하시오."
   ]
  },
  {
   "cell_type": "code",
   "execution_count": 39,
   "id": "accurate-seafood",
   "metadata": {},
   "outputs": [
    {
     "name": "stdout",
     "output_type": "stream",
     "text": [
      "1 출력\n",
      "2 출력\n",
      "3 출력\n",
      "4 출력\n",
      "5 출력\n"
     ]
    }
   ],
   "source": [
    "i = 1;\n",
    "while i <= 5 :\n",
    "    print(i, \"출력\")\n",
    "    i = i + 1"
   ]
  },
  {
   "cell_type": "code",
   "execution_count": 43,
   "id": "experienced-middle",
   "metadata": {},
   "outputs": [
    {
     "name": "stdout",
     "output_type": "stream",
     "text": [
      "작업번호를 입력해주세요.0을 입력하면 종료합니다1\n",
      "작업번호를 입력해주세요.0을 입력하면 종료합니다4\n",
      "작업번호를 입력해주세요.0을 입력하면 종료합니다52\n",
      "작업번호를 입력해주세요.0을 입력하면 종료합니다787\n",
      "작업번호를 입력해주세요.0을 입력하면 종료합니다11111\n",
      "작업번호를 입력해주세요.0을 입력하면 종료합니다0\n",
      "프로그램을 종료합니다.\n"
     ]
    }
   ],
   "source": [
    "job = 999\n",
    "while True:\n",
    "    job = int(input(\"작업번호를 입력해주세요.0을 입력하면 종료합니다\"))\n",
    "    if job == 0 : break\n",
    "    else : continue\n",
    "        \n",
    "print(\"프로그램을 종료합니다.\")"
   ]
  },
  {
   "cell_type": "code",
   "execution_count": 45,
   "id": "optimum-polls",
   "metadata": {},
   "outputs": [
    {
     "name": "stdout",
     "output_type": "stream",
     "text": [
      "주호\n",
      "재은\n",
      "지은\n",
      "정호\n",
      "동진\n",
      "용주\n"
     ]
    }
   ],
   "source": [
    "unconfirmed_users = [\"용주\", \"동진\", \"정호\", \"지은\", \"재은\", \"주호\"]\n",
    "confirmed_users = []\n",
    "\n",
    "while unconfirmed_users:\n",
    "    current_user = unconfirmed_users.pop()\n",
    "    confirmed_users.append(current_user)\n",
    "    \n",
    "for confirmed_user in confirmed_users:\n",
    "    print(confirmed_user)"
   ]
  },
  {
   "cell_type": "code",
   "execution_count": null,
   "id": "convinced-academy",
   "metadata": {},
   "outputs": [],
   "source": []
  },
  {
   "cell_type": "code",
   "execution_count": null,
   "id": "charged-knight",
   "metadata": {},
   "outputs": [],
   "source": []
  }
 ],
 "metadata": {
  "kernelspec": {
   "display_name": "Python 3",
   "language": "python",
   "name": "python3"
  },
  "language_info": {
   "codemirror_mode": {
    "name": "ipython",
    "version": 3
   },
   "file_extension": ".py",
   "mimetype": "text/x-python",
   "name": "python",
   "nbconvert_exporter": "python",
   "pygments_lexer": "ipython3",
   "version": "3.9.1"
  }
 },
 "nbformat": 4,
 "nbformat_minor": 5
}
