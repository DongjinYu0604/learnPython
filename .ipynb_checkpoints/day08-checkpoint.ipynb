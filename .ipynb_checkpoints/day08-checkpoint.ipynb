{
 "cells": [
  {
   "cell_type": "code",
   "execution_count": 1,
   "id": "verbal-bernard",
   "metadata": {},
   "outputs": [
    {
     "name": "stdout",
     "output_type": "stream",
     "text": [
      "3.1415926535\n",
      "  8979323846\n",
      "  2643383279\n"
     ]
    }
   ],
   "source": [
    "# 파일 읽기 : open(), read()에 대하여 설명한다.\n",
    "# open() : 파일 객체 반환\n",
    "# with 블록 종료시 파일 자동 close\n",
    "# 파일경로를 이용하여 경로와 파일을 지정할 수 있다.\n",
    "with open('inoutdata/pidigits.txt') as infile:\n",
    "    contents = infile.read()\n",
    "    \n",
    "print(contents)"
   ]
  },
  {
   "cell_type": "code",
   "execution_count": 2,
   "id": "incorporated-tooth",
   "metadata": {},
   "outputs": [
    {
     "name": "stdout",
     "output_type": "stream",
     "text": [
      "3.1415926535\n",
      "\n",
      "  8979323846\n",
      "\n",
      "  2643383279\n"
     ]
    }
   ],
   "source": [
    "# 행 단위로 읽기\n",
    "with open('inoutdata/pidigits.txt') as infile:\n",
    "    for line in infile:\n",
    "        print(line)  \n",
    "        # print(line.rstrip())  # 공백라인 제거"
   ]
  },
  {
   "cell_type": "code",
   "execution_count": 4,
   "id": "composite-above",
   "metadata": {},
   "outputs": [
    {
     "name": "stdout",
     "output_type": "stream",
     "text": [
      "3.1415926535\n",
      "  8979323846\n",
      "  2643383279\n"
     ]
    }
   ],
   "source": [
    "# 행 단위로 읽기\n",
    "with open('inoutdata/pidigits.txt') as infile:\n",
    "    for line in infile:\n",
    "        #print(line)  \n",
    "        print(line.rstrip())  # 공백라인 제거"
   ]
  },
  {
   "cell_type": "code",
   "execution_count": 5,
   "id": "toxic-entity",
   "metadata": {
    "scrolled": true
   },
   "outputs": [
    {
     "name": "stdout",
     "output_type": "stream",
     "text": [
      "3.1415926535\n",
      "  8979323846\n",
      "  2643383279\n"
     ]
    }
   ],
   "source": [
    "# 파일에서 행 리스트 구성하기\n",
    "filepath = 'inoutdata/pidigits.txt'\n",
    "\n",
    "with open(filepath) as infile:\n",
    "    lines = infile.readlines()\n",
    "    # readlines()는 파일로부터 행단위로 읽어 리스트로 구성한다.\n",
    "    \n",
    "for line in lines:\n",
    "    print(line.rstrip())"
   ]
  },
  {
   "cell_type": "code",
   "execution_count": 7,
   "id": "proud-virus",
   "metadata": {},
   "outputs": [
    {
     "data": {
      "text/plain": [
       "['3.1415926535\\n', '  8979323846\\n', '  2643383279']"
      ]
     },
     "execution_count": 7,
     "metadata": {},
     "output_type": "execute_result"
    }
   ],
   "source": [
    "type(lines)\n",
    "lines"
   ]
  },
  {
   "cell_type": "code",
   "execution_count": 9,
   "id": "modern-newman",
   "metadata": {},
   "outputs": [
    {
     "name": "stdout",
     "output_type": "stream",
     "text": [
      "3.1415926535  8979323846  2643383279\n",
      "36\n"
     ]
    }
   ],
   "source": [
    "# 파일 콘텐츠 다루기\n",
    "filepath = 'inoutdata/pidigits.txt'\n",
    "\n",
    "with open(filepath) as infile:\n",
    "    lines = infile.readlines()\n",
    "    \n",
    "piString = ''\n",
    "for line in lines:\n",
    "    piString += line.rstrip()\n",
    "    \n",
    "print(piString)\n",
    "print(len(piString))"
   ]
  },
  {
   "cell_type": "code",
   "execution_count": 11,
   "id": "third-valuation",
   "metadata": {},
   "outputs": [
    {
     "name": "stdout",
     "output_type": "stream",
     "text": [
      "3.14159265358979323846264338327950288419716939937510...\n",
      "1020000\n"
     ]
    }
   ],
   "source": [
    "# 백만단위의 큰 숫자 다루기\n",
    "filepath = 'inoutdata/mpidigits.txt'\n",
    "\n",
    "with open(filepath) as infile:\n",
    "    lines = infile.readlines()\n",
    "    \n",
    "piString = ''\n",
    "for line in lines:\n",
    "    piString += line.rstrip()\n",
    "    \n",
    "print(f\"{piString[:52]}...\")\n",
    "print(len(piString))"
   ]
  },
  {
   "cell_type": "code",
   "execution_count": 20,
   "id": "planned-retreat",
   "metadata": {},
   "outputs": [
    {
     "name": "stdout",
     "output_type": "stream",
     "text": [
      "생일을 입력해주세요 yymmdd :970604\n",
      "생일이 pi안에 있습니다.\n",
      "716383번째부터 있으며, 생일 앞뒤 5자리씩을 더 출력하면 136069706041609입니다.\n"
     ]
    }
   ],
   "source": [
    "filepath = 'inoutdata/mpidigits.txt'\n",
    "\n",
    "with open(filepath) as infile:\n",
    "    lines = infile.readlines()\n",
    "    \n",
    "piString = ''\n",
    "for line in lines:\n",
    "    piString += line.rstrip()\n",
    "    \n",
    "birthday = input(\"생일을 입력해주세요 yymmdd :\")\n",
    "if birthday in piString:\n",
    "    print(\"생일이 pi안에 있습니다.\")\n",
    "else:\n",
    "    print(\"생일이 pi안에 없습니다.\")\n",
    "    \n",
    "idx = piString.index(birthday)\n",
    "start = idx - 5\n",
    "end = idx + 10\n",
    "print(f\"{idx}번째부터 있으며, 생일 앞뒤 5자리씩을 더 출력하면 {piString[start:end]}입니다.\")"
   ]
  },
  {
   "cell_type": "code",
   "execution_count": 25,
   "id": "widespread-preserve",
   "metadata": {},
   "outputs": [],
   "source": [
    "# 파일에 쓰기\n",
    "filepath = 'inoutdata/output.txt'\n",
    "\n",
    "#  acces:mode, w:wirte, a:append, r:read\n",
    "with open(filepath, 'w') as outfile:\n",
    "    outfile.write('I like c++\\n')\n",
    "    outfile.write('I love promgramming.\\n')"
   ]
  },
  {
   "cell_type": "code",
   "execution_count": 27,
   "id": "polar-ferry",
   "metadata": {},
   "outputs": [
    {
     "name": "stdout",
     "output_type": "stream",
     "text": [
      "Divide by zero!\n"
     ]
    }
   ],
   "source": [
    "# 예외 처리하기\n",
    "# try - except 블록\n",
    "try:\n",
    "    print(5/0)\n",
    "except ZeroDivisionError:\n",
    "    print(\"Divide by zero!\")"
   ]
  },
  {
   "cell_type": "code",
   "execution_count": 33,
   "id": "spoken-producer",
   "metadata": {},
   "outputs": [
    {
     "name": "stdout",
     "output_type": "stream",
     "text": [
      "Give me two numbers, and I'll divide them.\n",
      "Enter 'q' to quit.\n",
      "\n",
      "First number: 10\n",
      "Second number: q\n"
     ]
    }
   ],
   "source": [
    "# if 구문 사용, 오류 상황 회피\n",
    "print(\"Give me two numbers, and I'll divide them.\")\n",
    "print(\"Enter 'q' to quit.\")\n",
    "\n",
    "while True:\n",
    "    first_number = input(\"\\nFirst number: \")\n",
    "    if first_number == 'q':\n",
    "        break\n",
    "    second_number = input(\"Second number: \")\n",
    "    if second_number == 'q':\n",
    "        break\n",
    "    answer == int(first_number) / int(second_number)\n",
    "    print(answer)"
   ]
  },
  {
   "cell_type": "code",
   "execution_count": 35,
   "id": "monetary-pickup",
   "metadata": {},
   "outputs": [
    {
     "name": "stdout",
     "output_type": "stream",
     "text": [
      "두개의 숫자를 입력해주세요\n",
      "그만두려변 q를 입력해주세요\n",
      "첫번째 숫자는?5\n",
      "두번째 숫자는?5\n",
      "1.0\n",
      "첫번째 숫자는?5\n",
      "두번째 숫자는?4\n",
      "1.25\n",
      "첫번째 숫자는?1\n",
      "두번째 숫자는?3\n",
      "0.3333333333333333\n",
      "첫번째 숫자는?q\n"
     ]
    }
   ],
   "source": [
    "print(\"두개의 숫자를 입력해주세요\")\n",
    "print(\"그만두려변 q를 입력해주세요\")\n",
    "\n",
    "while True:\n",
    "    first = input(\"첫번째 숫자는?\")\n",
    "    if first == 'q':\n",
    "        break\n",
    "        \n",
    "    second = input(\"두번째 숫자는?\")\n",
    "    if second == 'q':\n",
    "        break\n",
    "    \n",
    "    answer = int(first) / int(second)\n",
    "    print(answer)"
   ]
  },
  {
   "cell_type": "code",
   "execution_count": 36,
   "id": "optional-spanish",
   "metadata": {},
   "outputs": [
    {
     "name": "stdout",
     "output_type": "stream",
     "text": [
      "두개의 숫자를 입력해주세요\n",
      "그만두려변 q를 입력해주세요\n",
      "첫번째 숫자는?10\n",
      "두번째 숫자는?0\n",
      "0으로 나누는 오류가 생겼습니다.\n",
      "첫번째 숫자는?10\n",
      "두번째 숫자는?5\n",
      "2.0\n",
      "첫번째 숫자는?q\n"
     ]
    }
   ],
   "source": [
    "# try-except-else 사용, 오류 회피 및 정상 처리\n",
    "\n",
    "print(\"두개의 숫자를 입력해주세요\")\n",
    "print(\"그만두려변 q를 입력해주세요\")\n",
    "\n",
    "while True:\n",
    "    first = input(\"첫번째 숫자는?\")\n",
    "    if first == 'q':\n",
    "        break\n",
    "        \n",
    "    second = input(\"두번째 숫자는?\")\n",
    "    if second == 'q':\n",
    "        break\n",
    "    try:\n",
    "        answer = int(first) / int(second)\n",
    "    except ZeroDivisionError :\n",
    "        print(\"0으로 나누는 오류가 생겼습니다.\")\n",
    "    else:\n",
    "        print(answer)"
   ]
  },
  {
   "cell_type": "code",
   "execution_count": 39,
   "id": "integral-scoop",
   "metadata": {},
   "outputs": [
    {
     "ename": "FileNotFoundError",
     "evalue": "[Errno 2] No such file or directory: 'alice.txt'",
     "output_type": "error",
     "traceback": [
      "\u001b[1;31m---------------------------------------------------------------------------\u001b[0m",
      "\u001b[1;31mFileNotFoundError\u001b[0m                         Traceback (most recent call last)",
      "\u001b[1;32m<ipython-input-39-a51eed9a02a7>\u001b[0m in \u001b[0;36m<module>\u001b[1;34m\u001b[0m\n\u001b[0;32m      2\u001b[0m \u001b[0mfilename\u001b[0m \u001b[1;33m=\u001b[0m \u001b[1;34m'alice.txt'\u001b[0m\u001b[1;33m\u001b[0m\u001b[1;33m\u001b[0m\u001b[0m\n\u001b[0;32m      3\u001b[0m \u001b[1;33m\u001b[0m\u001b[0m\n\u001b[1;32m----> 4\u001b[1;33m \u001b[1;32mwith\u001b[0m \u001b[0mopen\u001b[0m\u001b[1;33m(\u001b[0m\u001b[0mfilename\u001b[0m\u001b[1;33m)\u001b[0m \u001b[1;32mas\u001b[0m \u001b[0mf\u001b[0m\u001b[1;33m:\u001b[0m\u001b[1;33m\u001b[0m\u001b[1;33m\u001b[0m\u001b[0m\n\u001b[0m\u001b[0;32m      5\u001b[0m     \u001b[0mcontents\u001b[0m \u001b[1;33m=\u001b[0m \u001b[0mf\u001b[0m\u001b[1;33m.\u001b[0m\u001b[0mread\u001b[0m\u001b[1;33m(\u001b[0m\u001b[1;33m)\u001b[0m\u001b[1;33m\u001b[0m\u001b[1;33m\u001b[0m\u001b[0m\n",
      "\u001b[1;31mFileNotFoundError\u001b[0m: [Errno 2] No such file or directory: 'alice.txt'"
     ]
    }
   ],
   "source": [
    "# FileNotFoundError 예외 상황 처리\n",
    "filename = 'alice.txt'\n",
    "\n",
    "with open(filename) as f:\n",
    "    contents = f.read()"
   ]
  },
  {
   "cell_type": "code",
   "execution_count": 43,
   "id": "incoming-vampire",
   "metadata": {},
   "outputs": [
    {
     "name": "stdout",
     "output_type": "stream",
     "text": [
      "alice.txt파일이 존재하지 않습니다.\n"
     ]
    }
   ],
   "source": [
    "# FileNotFoundError 예외 상황 처리\n",
    "filename = 'alice.txt'\n",
    "try:\n",
    "    with open(filename) as f:\n",
    "        contents = f.read()\n",
    "except FileNotFoundError:\n",
    "    print(f\"{filename}파일이 존재하지 않습니다.\")\n",
    "else:\n",
    "    print(contents)"
   ]
  },
  {
   "cell_type": "code",
   "execution_count": 44,
   "id": "nasty-boards",
   "metadata": {},
   "outputs": [
    {
     "data": {
      "text/plain": [
       "['Alice', 'in', 'Wonderland']"
      ]
     },
     "execution_count": 44,
     "metadata": {},
     "output_type": "execute_result"
    }
   ],
   "source": [
    "# 텍스트 분석\n",
    "title = \"Alice in Wonderland\"\n",
    "title.split()"
   ]
  },
  {
   "cell_type": "code",
   "execution_count": 47,
   "id": "suspended-enzyme",
   "metadata": {},
   "outputs": [
    {
     "name": "stdout",
     "output_type": "stream",
     "text": [
      "파일에는 약 17842개의 단어를 포함하고 있습니다.\n"
     ]
    }
   ],
   "source": [
    "# 텍스트 분석\n",
    "filename = 'inoutdata/alice.txt'\n",
    "\n",
    "try:\n",
    "    with open(filename) as f:\n",
    "        contents = f.read()\n",
    "except FileNotFoundError:\n",
    "    print(\"파일이 존재하지 않습니다.\")\n",
    "else:\n",
    "    words = contents.split()\n",
    "    num_words = len(words)\n",
    "    print(f\"파일에는 약 {num_words}개의 단어를 포함하고 있습니다.\")"
   ]
  },
  {
   "cell_type": "code",
   "execution_count": 58,
   "id": "suitable-formation",
   "metadata": {},
   "outputs": [
    {
     "name": "stdout",
     "output_type": "stream",
     "text": [
      "파일에는 약 17842개의 단어를 포함하고 있습니다.\n",
      "파일에는 약 154065개의 단어를 포함하고 있습니다.\n"
     ]
    }
   ],
   "source": [
    "# 여러 파일 다루기\n",
    "def count_words(filename):\n",
    "    try:\n",
    "        with open(filename, encoding='UTF-8') as f:\n",
    "            contents = f.read()\n",
    "    except FileNotFoundError:\n",
    "        print(\"파일이 존재하지 않습니다.\")\n",
    "    else:\n",
    "        words = contents.split()\n",
    "        num_words = len(words)\n",
    "        print(f\"파일에는 약 {num_words}개의 단어를 포함하고 있습니다.\")\n",
    "\n",
    "filenames = ['inoutdata/alice.txt', 'inoutdata/uncletom.txt']\n",
    "for filename in filenames:\n",
    "    count_words(filename)"
   ]
  },
  {
   "cell_type": "code",
   "execution_count": 60,
   "id": "buried-congress",
   "metadata": {},
   "outputs": [],
   "source": [
    "# 데이터 저장과 재사용\n",
    "import json\n",
    "\n",
    "numbers = [1,2,3,4,5,6,7,8,9,10]\n",
    "\n",
    "filename = 'inoutdata/numbers.json'\n",
    "with open(filename, 'w') as outf:\n",
    "    json.dump(numbers, outf)"
   ]
  },
  {
   "cell_type": "code",
   "execution_count": 61,
   "id": "younger-bloom",
   "metadata": {},
   "outputs": [
    {
     "name": "stdout",
     "output_type": "stream",
     "text": [
      "[1, 2, 3, 4, 5, 6, 7, 8, 9, 10]\n"
     ]
    }
   ],
   "source": [
    "with open(filename) as inf:\n",
    "    rnumbers = json.load(inf)\n",
    "print(rnumbers)"
   ]
  },
  {
   "cell_type": "code",
   "execution_count": 62,
   "id": "further-steps",
   "metadata": {},
   "outputs": [
    {
     "name": "stdout",
     "output_type": "stream",
     "text": [
      "이름은 무엇입니까?동진\n",
      " we'll remember you when you come back, 동진!\n"
     ]
    }
   ],
   "source": [
    "import json\n",
    "\n",
    "username = input(\"이름은 무엇입니까?\")\n",
    "filename = 'inoutdata/username.json'\n",
    "with open(filename, 'w') as f:\n",
    "    json.dump(username,f)\n",
    "    print(f\" we'll remember you when you come back, {username}!\")"
   ]
  },
  {
   "cell_type": "code",
   "execution_count": 64,
   "id": "painful-first",
   "metadata": {},
   "outputs": [
    {
     "name": "stdout",
     "output_type": "stream",
     "text": [
      "welcome back, 동진!\n"
     ]
    }
   ],
   "source": [
    "import json\n",
    "\n",
    "filename = 'inoutdata/username.json'\n",
    "\n",
    "with open(filename) as f:\n",
    "    username = json.load(f)\n",
    "    print(f\"welcome back, {username}!\")"
   ]
  },
  {
   "cell_type": "code",
   "execution_count": 66,
   "id": "smaller-philadelphia",
   "metadata": {},
   "outputs": [
    {
     "name": "stdout",
     "output_type": "stream",
     "text": [
      "'wjdajdiwadjawjdawd.1'\n",
      "'awdjkwadnwankdwad.2'\n",
      "'wandwaldkawndawnd.3'\n"
     ]
    }
   ],
   "source": [
    "with open('inoutdata/test01.txt') as infile:\n",
    "    contents = infile.read()\n",
    "    \n",
    "print(contents)"
   ]
  },
  {
   "cell_type": "code",
   "execution_count": 68,
   "id": "italian-application",
   "metadata": {},
   "outputs": [
    {
     "name": "stdout",
     "output_type": "stream",
     "text": [
      "이름은 무엇입니까?유동진\n"
     ]
    }
   ],
   "source": [
    "filename = 'inoutdata/guest.txt'\n",
    "guestname = input(\"이름은 무엇입니까?\")\n",
    "\n",
    "with open(filename, 'w') as infile:\n",
    "    infile.write(guestname)"
   ]
  },
  {
   "cell_type": "code",
   "execution_count": 77,
   "id": "quiet-cement",
   "metadata": {},
   "outputs": [
    {
     "name": "stdout",
     "output_type": "stream",
     "text": [
      "환영합니다!\n",
      "종료할 시에 'q'를 눌러주세요.\n",
      "이름을 입력해주세요유동진\n",
      "이름을 입력해주세요아니야\n",
      "이름을 입력해주세요이제\n",
      "이름을 입력해주세요도ㅒㅆ나\n",
      "이름을 입력해주세요q\n"
     ]
    }
   ],
   "source": [
    "print(\"환영합니다!\")\n",
    "print(\"종료할 시에 'q'를 눌러주세요.\")\n",
    "\n",
    "filename = 'inoutdata/guest_book.txt'\n",
    "\n",
    "while True:\n",
    "    f_name = input(\"이름을 입력해주세요\")\n",
    "    with open(filename, 'a') as infile:\n",
    "        infile.write(f\"{f_name}\\n\")\n",
    "    if f_name == 'q' :\n",
    "        break    "
   ]
  },
  {
   "cell_type": "code",
   "execution_count": 78,
   "id": "medium-hammer",
   "metadata": {},
   "outputs": [
    {
     "name": "stdout",
     "output_type": "stream",
     "text": [
      "프로그램을 좋아하는 이유를 적어주세요.\n",
      "종료를 원할시에는 'q'를 눌러주세요.\n",
      " 이유를 적어주세요.모르겠어\n",
      " 이유를 적어주세요.몰라몰라\n",
      " 이유를 적어주세요.q\n"
     ]
    }
   ],
   "source": [
    "print(\"프로그램을 좋아하는 이유를 적어주세요.\")\n",
    "print(\"종료를 원할시에는 'q'를 눌러주세요.\")\n",
    "\n",
    "filename = 'inoutdata/pro.txt'\n",
    "\n",
    "while True:\n",
    "    res = input(\" 이유를 적어주세요.\")\n",
    "    with open(filename, 'a') as infile:\n",
    "        infile.write(f\"{res}\\n\")\n",
    "    if res == 'q' :\n",
    "        break"
   ]
  },
  {
   "cell_type": "code",
   "execution_count": null,
   "id": "drawn-fault",
   "metadata": {},
   "outputs": [],
   "source": [
    "# 리팩터링의 개념 소개"
   ]
  }
 ],
 "metadata": {
  "kernelspec": {
   "display_name": "Python 3",
   "language": "python",
   "name": "python3"
  },
  "language_info": {
   "codemirror_mode": {
    "name": "ipython",
    "version": 3
   },
   "file_extension": ".py",
   "mimetype": "text/x-python",
   "name": "python",
   "nbconvert_exporter": "python",
   "pygments_lexer": "ipython3",
   "version": "3.9.1"
  }
 },
 "nbformat": 4,
 "nbformat_minor": 5
}
