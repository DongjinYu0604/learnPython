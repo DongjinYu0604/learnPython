{
 "cells": [
  {
   "cell_type": "markdown",
   "id": "developmental-corruption",
   "metadata": {},
   "source": [
    "# 6일차 수업\n",
    "\n",
    "## 함수"
   ]
  },
  {
   "cell_type": "code",
   "execution_count": 12,
   "id": "latin-accounting",
   "metadata": {},
   "outputs": [],
   "source": [
    "## 함수 정의\n",
    "# def 함수이름(패러미터리스트):    peramiter, 인수, 인자, 매개변수\n",
    "#     함수의내용, function body\n",
    "\n",
    "def greetings(user, times):\n",
    "    if times == '아침':\n",
    "        print(f\"{user}, 아침은 드셨나요?\")\n",
    "    elif times == '점심':\n",
    "        print(f\"{user}, 날씨가 참 좋아요.\")\n",
    "    elif times == '저녁':\n",
    "        print(f\"{user}, 편히 쉬세요.\")\n",
    "    else :\n",
    "        print(f\"{user}, 안녕하세요.\")"
   ]
  },
  {
   "cell_type": "code",
   "execution_count": 13,
   "id": "portable-reporter",
   "metadata": {},
   "outputs": [
    {
     "name": "stdout",
     "output_type": "stream",
     "text": [
      "아저씨, 아침은 드셨나요?\n",
      "아주머니, 날씨가 참 좋아요.\n",
      "아저씨, 편히 쉬세요.\n",
      ", 안녕하세요.\n"
     ]
    }
   ],
   "source": [
    "#함수 호출. 함수 사용\n",
    "greetings('아저씨', '아침')\n",
    "greetings('아주머니', '점심')\n",
    "greetings('아저씨', '저녁')\n",
    "greetings('', '')"
   ]
  },
  {
   "cell_type": "code",
   "execution_count": 15,
   "id": "trained-updating",
   "metadata": {},
   "outputs": [
    {
     "name": "stdout",
     "output_type": "stream",
     "text": [
      "My hamster의 이름은 harry입니다.\n"
     ]
    }
   ],
   "source": [
    "# 키워드매개변수\n",
    "def describe(animalType, petname):\n",
    "    print(f\"My {animalType}의 이름은 {petname}입니다.\")\n",
    "    \n",
    "describe(animalType='hamster', petname='harry')"
   ]
  },
  {
   "cell_type": "code",
   "execution_count": 26,
   "id": "celtic-municipality",
   "metadata": {},
   "outputs": [
    {
     "name": "stdout",
     "output_type": "stream",
     "text": [
      "이 티셔츠의 사이즈는 L이며, 프린팅 그림은 I love python입니다.\n",
      "이 티셔츠의 사이즈는 L이며, 프린팅 그림은 Hi, python입니다.\n"
     ]
    }
   ],
   "source": [
    "def make_shirt(shirtsize, shirtmessage):\n",
    "    print(f\"이 티셔츠의 사이즈는 {shirtsize}이며, 프린팅 그림은 {shirtmessage}입니다.\") \n",
    "\n",
    "def make_shirt2(shirtsize, shirtmessage2):\n",
    "    print(f\"이 티셔츠의 사이즈는 {shirtsize}이며, 프린팅 그림은 {shirtmessage2}입니다.\")\n",
    "    \n",
    "\n",
    "make_shirt('L', 'I love python')\n",
    "make_shirt2('L', 'Hi, python')"
   ]
  },
  {
   "cell_type": "code",
   "execution_count": 21,
   "id": "closing-thirty",
   "metadata": {},
   "outputs": [
    {
     "name": "stdout",
     "output_type": "stream",
     "text": [
      "SIZE:small, Message : Hello World\n",
      "SIZE:Hello World, Message : small\n",
      "SIZE:small, Message : Hello World\n",
      "SIZE:small, Message : Hello World\n",
      "SIZE:large, Message : Hi, There\n"
     ]
    }
   ],
   "source": [
    "def make_shirtP(size, message):\n",
    "    print(f\"SIZE:{size}, Message : {message}\")\n",
    "    \n",
    "def make_shirtK(size, message='Hi, There'):\n",
    "    print(f\"SIZE:{size}, Message : {message}\")\n",
    "    \n",
    "make_shirtP('small', 'Hello World')\n",
    "make_shirtP('Hello World', 'small')\n",
    "\n",
    "make_shirtK(size = 'small', message = 'Hello World')\n",
    "make_shirtK(message = 'Hello World', size = 'small')\n",
    "make_shirtK(size = 'large')"
   ]
  },
  {
   "cell_type": "code",
   "execution_count": 32,
   "id": "exotic-xerox",
   "metadata": {},
   "outputs": [
    {
     "name": "stdout",
     "output_type": "stream",
     "text": [
      "4\n"
     ]
    }
   ],
   "source": [
    "# 함수의 반환값\n",
    "def add(n1, n2):\n",
    "    result = n1 + n2\n",
    "    return result\n",
    "\n",
    "print(add(1,3))"
   ]
  },
  {
   "cell_type": "code",
   "execution_count": 36,
   "id": "decreased-silly",
   "metadata": {},
   "outputs": [
    {
     "name": "stdout",
     "output_type": "stream",
     "text": [
      "{'frist': 'kim', 'last': 'yushin', 'age': 21}\n"
     ]
    }
   ],
   "source": [
    "def build_person(first_name, last_name, age=None):\n",
    "    person = {'frist': first_name, 'last': last_name}\n",
    "    if age:\n",
    "        person['age'] = age\n",
    "    return person\n",
    "\n",
    "musician = build_person('kim', 'yushin', age=21)\n",
    "print(musician)"
   ]
  },
  {
   "cell_type": "code",
   "execution_count": 38,
   "id": "pleased-norway",
   "metadata": {},
   "outputs": [
    {
     "name": "stdout",
     "output_type": "stream",
     "text": [
      "{'frist': 'Lee', 'last': 'soonshin'}\n"
     ]
    }
   ],
   "source": [
    "musician = build_person('Lee', 'soonshin')\n",
    "print(musician)"
   ]
  },
  {
   "cell_type": "code",
   "execution_count": 51,
   "id": "indoor-suspension",
   "metadata": {},
   "outputs": [
    {
     "name": "stdout",
     "output_type": "stream",
     "text": [
      "\n",
      "please tell me city and country:\n",
      "(enter 'q' at any time to quit)\n",
      "city name: santiago\n",
      "country name: Chile\n",
      "\n",
      "please tell me city and country:\n",
      "(enter 'q' at any time to quit)\n",
      "city name: q\n",
      "\n",
      "q, Chile\n"
     ]
    }
   ],
   "source": [
    "def get_city_country(city_name, country_name):\n",
    "    full_name = f\"{city_name} {country_name}\"\n",
    "    return full_name.title()\n",
    "\n",
    "while True:\n",
    "    print(\"\\nplease tell me city and country:\")\n",
    "    print(\"(enter 'q' at any time to quit)\")\n",
    "   \n",
    "    c_name = input(\"city name: \")\n",
    "    if c_name == 'q':\n",
    "          break\n",
    "          \n",
    "    cr_name = input(\"country name: \")\n",
    "    if cr_name == 'q':\n",
    "          break\n",
    "          \n",
    "city_country = get_city_country(c_name, cr_name)\n",
    "print(f\"\\n{c_name}, {cr_name}\")"
   ]
  },
  {
   "cell_type": "code",
   "execution_count": 52,
   "id": "rapid-niagara",
   "metadata": {},
   "outputs": [
    {
     "name": "stdout",
     "output_type": "stream",
     "text": [
      "('홍길동',)\n",
      "('용주', '동진', '정호', '지은', '재은')\n"
     ]
    }
   ],
   "source": [
    "def chk_attend(*students):\n",
    "    \"\"\" 출석한 학생들의 리스트를 출력해주는 함수\"\"\"\n",
    "    print(students)   # 전달된 학생 명단을 투플로 구성하여 출력함.\n",
    "    \n",
    "chk_attend('홍길동')\n",
    "chk_attend('용주', '동진', '정호', '지은', '재은')"
   ]
  },
  {
   "cell_type": "code",
   "execution_count": 59,
   "id": "prime-arthur",
   "metadata": {},
   "outputs": [
    {
     "name": "stdout",
     "output_type": "stream",
     "text": [
      "{'location': 'princeton', 'field': 'physics', 'first_name': 'albert', 'last_name': 'einstein'}\n",
      "{'도시': '청주시', '동': '우암동', 'first_name': '유', 'last_name': '동진'}\n"
     ]
    }
   ],
   "source": [
    "def build_profile(first, last, **user_info):\n",
    "    user_info['first_name'] = first\n",
    "    user_info['last_name'] = last\n",
    "    return user_info\n",
    "\n",
    "user_profile = build_profile('albert', 'einstein',\n",
    "                             location='princeton',\n",
    "                             field='physics')\n",
    "my_profile = build_profile('유', '동진', 도시='청주시', 동='우암동')\n",
    "print(user_profile)\n",
    "print(my_profile)"
   ]
  },
  {
   "cell_type": "code",
   "execution_count": 60,
   "id": "seven-annual",
   "metadata": {},
   "outputs": [
    {
     "ename": "NameError",
     "evalue": "name 'random' is not defined",
     "output_type": "error",
     "traceback": [
      "\u001b[1;31m---------------------------------------------------------------------------\u001b[0m",
      "\u001b[1;31mNameError\u001b[0m                                 Traceback (most recent call last)",
      "\u001b[1;32m<ipython-input-60-1e16b7152bea>\u001b[0m in \u001b[0;36m<module>\u001b[1;34m\u001b[0m\n\u001b[1;32m----> 1\u001b[1;33m \u001b[0mrandom\u001b[0m\u001b[1;33m.\u001b[0m\u001b[0mrandom\u001b[0m\u001b[1;33m(\u001b[0m\u001b[1;33m)\u001b[0m\u001b[1;33m\u001b[0m\u001b[1;33m\u001b[0m\u001b[0m\n\u001b[0m",
      "\u001b[1;31mNameError\u001b[0m: name 'random' is not defined"
     ]
    }
   ],
   "source": [
    "random.random()"
   ]
  },
  {
   "cell_type": "code",
   "execution_count": 63,
   "id": "concrete-proof",
   "metadata": {},
   "outputs": [
    {
     "ename": "SyntaxError",
     "evalue": "invalid syntax (<ipython-input-63-0ed240a1ade4>, line 1)",
     "output_type": "error",
     "traceback": [
      "\u001b[1;36m  File \u001b[1;32m\"<ipython-input-63-0ed240a1ade4>\"\u001b[1;36m, line \u001b[1;32m1\u001b[0m\n\u001b[1;33m    import Math from Math\u001b[0m\n\u001b[1;37m                ^\u001b[0m\n\u001b[1;31mSyntaxError\u001b[0m\u001b[1;31m:\u001b[0m invalid syntax\n"
     ]
    }
   ],
   "source": [
    "import Math from Math\n",
    "Math.random()"
   ]
  }
 ],
 "metadata": {
  "kernelspec": {
   "display_name": "Python 3",
   "language": "python",
   "name": "python3"
  },
  "language_info": {
   "codemirror_mode": {
    "name": "ipython",
    "version": 3
   },
   "file_extension": ".py",
   "mimetype": "text/x-python",
   "name": "python",
   "nbconvert_exporter": "python",
   "pygments_lexer": "ipython3",
   "version": "3.9.1"
  }
 },
 "nbformat": 4,
 "nbformat_minor": 5
}
