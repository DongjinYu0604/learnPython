{
 "cells": [
  {
   "cell_type": "markdown",
   "id": "hazardous-stereo",
   "metadata": {},
   "source": [
    "#### 연습문제 5-1 (121p)"
   ]
  },
  {
   "cell_type": "code",
   "execution_count": 22,
   "id": "wanted-witch",
   "metadata": {},
   "outputs": [
    {
     "name": "stdout",
     "output_type": "stream",
     "text": [
      "you got it 5point\n"
     ]
    }
   ],
   "source": [
    "alien_colors = ['green', 'yellow', 'red']\n",
    "\n",
    "if 'green' in alien_colors:\n",
    "    print('5point')"
   ]
  },
  {
   "cell_type": "code",
   "execution_count": 24,
   "id": "responsible-permission",
   "metadata": {},
   "outputs": [
    {
     "name": "stdout",
     "output_type": "stream",
     "text": [
      "you got it 5point\n"
     ]
    }
   ],
   "source": [
    "alien_colors = ['green', 'yellow', 'red']\n",
    "\n",
    "if 'green' in alien_colors:\n",
    "    print('5point')\n",
    "else:\n",
    "    print('10point')"
   ]
  },
  {
   "cell_type": "code",
   "execution_count": null,
   "id": "figured-ensemble",
   "metadata": {},
   "outputs": [],
   "source": [
    "alien_colors = ['green', 'yellow', 'red']\n",
    "int(input('처치한 색깔은?'))\n",
    "\n",
    "if 'green' in alien_colors:\n",
    "    point = 5\n",
    "elif 'yellow' in alien_colors:\n",
    "    point = 10\n",
    "elif 'red' in alien_colors:\n",
    "    point = 10\n",
    "    \n",
    "print(point)"
   ]
  }
 ],
 "metadata": {
  "kernelspec": {
   "display_name": "Python 3",
   "language": "python",
   "name": "python3"
  },
  "language_info": {
   "codemirror_mode": {
    "name": "ipython",
    "version": 3
   },
   "file_extension": ".py",
   "mimetype": "text/x-python",
   "name": "python",
   "nbconvert_exporter": "python",
   "pygments_lexer": "ipython3",
   "version": "3.9.1"
  }
 },
 "nbformat": 4,
 "nbformat_minor": 5
}
